{
 "cells": [
  {
   "cell_type": "code",
   "execution_count": 52,
   "id": "0fc75c08-a174-4aa2-abf3-d20ba8673768",
   "metadata": {},
   "outputs": [],
   "source": [
    "import torch\n",
    "from torch import nn\n",
    "from sklearn.metrics import r2_score"
   ]
  },
  {
   "cell_type": "code",
   "execution_count": 53,
   "id": "88f5ee63-0240-4e06-80e3-e5ecd924b1c7",
   "metadata": {},
   "outputs": [],
   "source": [
    "import kfp"
   ]
  },
  {
   "cell_type": "code",
   "execution_count": 54,
   "id": "4c26acb5-58b5-4c07-9cf7-25c0aba7aec6",
   "metadata": {},
   "outputs": [],
   "source": [
    "class MyMachine(nn.Module):\n",
    "    def __init__(self):\n",
    "        super().__init__()\n",
    "        self.fc = nn.Sequential(\n",
    "            nn.Linear(2,5),\n",
    "            nn.ReLU(),\n",
    "            nn.Linear(5,1)\n",
    "        )\n",
    "\n",
    "    def forward(self, x):\n",
    "        x = self.fc(x)\n",
    "        return x\n",
    "\n",
    "\n",
    "def get_dataset():\n",
    "        X = torch.rand((1000,2))\n",
    "        x1 = X[:,0]\n",
    "        x2 = X[:,1]\n",
    "        y = x1 * x2\n",
    "        return X, y\n",
    "\n",
    "\n",
    "def train():\n",
    "    model = MyMachine()\n",
    "    model.train()\n",
    "    X, y = get_dataset()\n",
    "    NUM_EPOCHS = 1000\n",
    "    optimizer = torch.optim.Adam(model.parameters(), lr=1e-2, weight_decay=1e-5)\n",
    "    criterion = torch.nn.MSELoss(reduction='mean')\n",
    "\n",
    "    for epoch in range(NUM_EPOCHS):\n",
    "        optimizer.zero_grad()\n",
    "        y_pred = model(X)\n",
    "        y_pred = y_pred.reshape(1000)\n",
    "        loss = criterion(y_pred, y)\n",
    "        loss.backward()\n",
    "        optimizer.step()\n",
    "        # print(f'Epoch:{epoch}, Loss:{loss.item()}')\n",
    "    torch.save(model.state_dict(), 'model.h5')\n",
    "    model_scripted = torch.jit.script(model) # Export to TorchScript\n",
    "    model_scripted.save('model_scripted.pt') # Save\n",
    "\n",
    "def test():\n",
    "    model = MyMachine()\n",
    "    model.load_state_dict(torch.load(\"model.h5\"))\n",
    "    model.eval()\n",
    "    X, y = get_dataset()\n",
    "\n",
    "    with torch.no_grad():\n",
    "        y_pred = model(X)\n",
    "        print(r2_score(y, y_pred))\n"
   ]
  },
  {
   "cell_type": "code",
   "execution_count": 55,
   "id": "80a3bdc6-b06c-4040-8b53-ab5f0f94ffb1",
   "metadata": {},
   "outputs": [],
   "source": [
    "train()"
   ]
  },
  {
   "cell_type": "code",
   "execution_count": 56,
   "id": "297d5b97-2e8c-473f-b0c3-0decb621678a",
   "metadata": {},
   "outputs": [
    {
     "name": "stdout",
     "output_type": "stream",
     "text": [
      "0.958365948606875\n"
     ]
    }
   ],
   "source": [
    "test()"
   ]
  },
  {
   "cell_type": "code",
   "execution_count": 57,
   "id": "0d30c5e0-f8a7-45bd-b8db-fd792a9b9c62",
   "metadata": {},
   "outputs": [
    {
     "data": {
      "text/plain": [
       "MyMachine(\n",
       "  (fc): Sequential(\n",
       "    (0): Linear(in_features=2, out_features=5, bias=True)\n",
       "    (1): ReLU()\n",
       "    (2): Linear(in_features=5, out_features=1, bias=True)\n",
       "  )\n",
       ")"
      ]
     },
     "execution_count": 57,
     "metadata": {},
     "output_type": "execute_result"
    }
   ],
   "source": [
    "model = MyMachine()\n",
    "model.load_state_dict(torch.load(\"model.h5\"))\n",
    "model.eval()"
   ]
  },
  {
   "cell_type": "code",
   "execution_count": 58,
   "id": "da16cab1-7e04-45ea-8958-f15fc482a54c",
   "metadata": {},
   "outputs": [
    {
     "name": "stdout",
     "output_type": "stream",
     "text": [
      "<bound method Module.state_dict of MyMachine(\n",
      "  (fc): Sequential(\n",
      "    (0): Linear(in_features=2, out_features=5, bias=True)\n",
      "    (1): ReLU()\n",
      "    (2): Linear(in_features=5, out_features=1, bias=True)\n",
      "  )\n",
      ")>\n"
     ]
    }
   ],
   "source": [
    "print(model.state_dict)"
   ]
  },
  {
   "cell_type": "code",
   "execution_count": 59,
   "id": "a584923a-f940-4eb6-9e5c-622de5b72791",
   "metadata": {},
   "outputs": [],
   "source": [
    "x = torch.tensor([2.0, 2.0])"
   ]
  },
  {
   "cell_type": "code",
   "execution_count": 60,
   "id": "1c592238-5ad0-47dd-a815-b98282ed82ab",
   "metadata": {},
   "outputs": [
    {
     "name": "stdout",
     "output_type": "stream",
     "text": [
      "tensor([1.5809], grad_fn=<ViewBackward0>)\n"
     ]
    }
   ],
   "source": [
    "print(model(x))"
   ]
  },
  {
   "cell_type": "code",
   "execution_count": null,
   "id": "0f83f7bb-8440-40f8-b6e7-c52440da547b",
   "metadata": {},
   "outputs": [],
   "source": []
  }
 ],
 "metadata": {
  "kernelspec": {
   "display_name": "Python 3 (ipykernel)",
   "language": "python",
   "name": "python3"
  },
  "language_info": {
   "codemirror_mode": {
    "name": "ipython",
    "version": 3
   },
   "file_extension": ".py",
   "mimetype": "text/x-python",
   "name": "python",
   "nbconvert_exporter": "python",
   "pygments_lexer": "ipython3",
   "version": "3.8.10"
  }
 },
 "nbformat": 4,
 "nbformat_minor": 5
}
